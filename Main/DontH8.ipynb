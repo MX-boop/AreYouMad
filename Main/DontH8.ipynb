{
 "cells": [
  {
   "cell_type": "code",
   "execution_count": 135,
   "metadata": {},
   "outputs": [
    {
     "name": "stdout",
     "output_type": "stream",
     "text": [
      "TensorFlow version:2.14.0\n"
     ]
    }
   ],
   "source": [
    "# Cell 1: Import necessary libraries\n",
    "import os\n",
    "import re\n",
    "import string\n",
    "import tensorflow as tf\n",
    "import numpy as np\n",
    "import matplotlib.pyplot as plt\n",
    "\n",
    "print(f\"TensorFlow version:{tf.__version__}\")"
   ]
  },
  {
   "cell_type": "code",
   "execution_count": 136,
   "metadata": {},
   "outputs": [
    {
     "name": "stdout",
     "output_type": "stream",
     "text": [
      "Found 159571 files belonging to 2 classes.\n",
      "Using 127657 files for training.\n",
      "Found 159571 files belonging to 2 classes.\n",
      "Using 31914 files for validation.\n",
      "Found 159571 files belonging to 2 classes.\n"
     ]
    }
   ],
   "source": [
    "# Cell 2: Define constants and load datasets\n",
    "batch_size = 32\n",
    "seed = 42\n",
    "\n",
    "raw_train_ds = tf.keras.utils.text_dataset_from_directory(\n",
    "    'OrganizedDataToxic', \n",
    "    batch_size=batch_size, \n",
    "    validation_split=0.2, \n",
    "    subset='training', \n",
    "    seed=seed)\n",
    "\n",
    "raw_val_ds = tf.keras.utils.text_dataset_from_directory(\n",
    "    'OrganizedDataToxic', \n",
    "    batch_size=batch_size, \n",
    "    validation_split=0.2, \n",
    "    subset='validation', \n",
    "    seed=seed)\n",
    "\n",
    "raw_test_ds = tf.keras.utils.text_dataset_from_directory(\n",
    "    'OrganizedDataToxic', \n",
    "    batch_size=batch_size)"
   ]
  },
  {
   "cell_type": "code",
   "execution_count": 137,
   "metadata": {},
   "outputs": [],
   "source": [
    "# Cell 3: Define custom text standardization function\n",
    "def custom_standardization(input_data):\n",
    "  lowercase = tf.strings.lower(input_data)\n",
    "  stripped_html = tf.strings.regex_replace(lowercase, '<br />', ' ')\n",
    "  return tf.strings.regex_replace(stripped_html,\n",
    "                                  '[%s]' % re.escape(string.punctuation),\n",
    "                                  '')"
   ]
  },
  {
   "cell_type": "code",
   "execution_count": 138,
   "metadata": {},
   "outputs": [],
   "source": [
    "# Cell 4: Define text vectorization parameters and create vectorization layer\n",
    "max_features = 10000\n",
    "sequence_length = 250\n",
    "\n",
    "vectorize_layer = tf.keras.layers.TextVectorization(\n",
    "    standardize=custom_standardization,\n",
    "    max_tokens=max_features,\n",
    "    output_mode='int',\n",
    "    output_sequence_length=sequence_length)"
   ]
  },
  {
   "cell_type": "code",
   "execution_count": 139,
   "metadata": {},
   "outputs": [],
   "source": [
    "# Cell 5: Adapt the vectorization layer to the training data\n",
    "train_text = raw_train_ds.map(lambda x, y: x)\n",
    "vectorize_layer.adapt(train_text)"
   ]
  },
  {
   "cell_type": "code",
   "execution_count": 140,
   "metadata": {},
   "outputs": [],
   "source": [
    "# Cell 6: Define functions for vectorizing text data\n",
    "def vectorize_text(text, label):\n",
    "  text = tf.expand_dims(text, -1)\n",
    "  return vectorize_layer(text), label\n",
    "\n",
    "train_ds = raw_train_ds.map(vectorize_text)\n",
    "val_ds = raw_val_ds.map(vectorize_text)\n",
    "test_ds = raw_test_ds.map(vectorize_text)"
   ]
  },
  {
   "cell_type": "code",
   "execution_count": 141,
   "metadata": {},
   "outputs": [],
   "source": [
    "# Cell 7: Configure dataset caching and prefetching\n",
    "AUTOTUNE = tf.data.AUTOTUNE\n",
    "\n",
    "train_ds = train_ds.cache().prefetch(buffer_size=AUTOTUNE)\n",
    "val_ds = val_ds.cache().prefetch(buffer_size=AUTOTUNE)\n",
    "test_ds = test_ds.cache().prefetch(buffer_size=AUTOTUNE)"
   ]
  },
  {
   "cell_type": "code",
   "execution_count": 142,
   "metadata": {},
   "outputs": [
    {
     "name": "stdout",
     "output_type": "stream",
     "text": [
      "Model: \"sequential_10\"\n"
     ]
    },
    {
     "name": "stdout",
     "output_type": "stream",
     "text": [
      "_________________________________________________________________\n",
      " Layer (type)                Output Shape              Param #   \n",
      "=================================================================\n",
      " embedding_5 (Embedding)     (None, None, 16)          160016    \n",
      "                                                                 \n",
      " dropout_10 (Dropout)        (None, None, 16)          0         \n",
      "                                                                 \n",
      " global_average_pooling1d_5  (None, 16)                0         \n",
      "  (GlobalAveragePooling1D)                                       \n",
      "                                                                 \n",
      " dropout_11 (Dropout)        (None, 16)                0         \n",
      "                                                                 \n",
      " dense_5 (Dense)             (None, 1)                 17        \n",
      "                                                                 \n",
      "=================================================================\n",
      "Total params: 160033 (625.13 KB)\n",
      "Trainable params: 160033 (625.13 KB)\n",
      "Non-trainable params: 0 (0.00 Byte)\n",
      "_________________________________________________________________\n"
     ]
    }
   ],
   "source": [
    "# Cell 8: Define the neural network model\n",
    "embedding_dim = 16\n",
    "\n",
    "model = tf.keras.Sequential([\n",
    "  tf.keras.layers.Embedding(max_features + 1, embedding_dim),\n",
    "  tf.keras.layers.Dropout(0.2),\n",
    "  tf.keras.layers.GlobalAveragePooling1D(),\n",
    "  tf.keras.layers.Dropout(0.2),\n",
    "  tf.keras.layers.Dense(1)])\n",
    "\n",
    "model.summary()"
   ]
  },
  {
   "cell_type": "code",
   "execution_count": 143,
   "metadata": {},
   "outputs": [],
   "source": [
    "# Cell 9: Compile the model\n",
    "model.compile(loss=tf.keras.losses.BinaryCrossentropy(from_logits=True),\n",
    "              optimizer='adam',\n",
    "              metrics=tf.metrics.BinaryAccuracy(threshold=0.0))"
   ]
  },
  {
   "cell_type": "code",
   "execution_count": 144,
   "metadata": {},
   "outputs": [
    {
     "name": "stdout",
     "output_type": "stream",
     "text": [
      "Epoch 1/100\n",
      "3990/3990 [==============================] - 9s 2ms/step - loss: 0.3014 - binary_accuracy: 0.9044 - val_loss: 0.2672 - val_binary_accuracy: 0.9033\n",
      "Epoch 2/100\n",
      "3990/3990 [==============================] - 6s 1ms/step - loss: 0.2359 - binary_accuracy: 0.9110 - val_loss: 0.2166 - val_binary_accuracy: 0.9166\n",
      "Epoch 3/100\n",
      "3990/3990 [==============================] - 6s 1ms/step - loss: 0.1952 - binary_accuracy: 0.9246 - val_loss: 0.1909 - val_binary_accuracy: 0.9309\n",
      "Epoch 4/100\n",
      "3990/3990 [==============================] - 6s 1ms/step - loss: 0.1723 - binary_accuracy: 0.9355 - val_loss: 0.1751 - val_binary_accuracy: 0.9401\n",
      "Epoch 5/100\n",
      "3990/3990 [==============================] - 6s 1ms/step - loss: 0.1560 - binary_accuracy: 0.9431 - val_loss: 0.1639 - val_binary_accuracy: 0.9449\n",
      "Epoch 6/100\n",
      "3990/3990 [==============================] - 6s 1ms/step - loss: 0.1444 - binary_accuracy: 0.9479 - val_loss: 0.1569 - val_binary_accuracy: 0.9480\n",
      "Epoch 7/100\n",
      "3990/3990 [==============================] - 6s 1ms/step - loss: 0.1354 - binary_accuracy: 0.9518 - val_loss: 0.1528 - val_binary_accuracy: 0.9514\n",
      "Epoch 8/100\n",
      "3990/3990 [==============================] - 6s 1ms/step - loss: 0.1280 - binary_accuracy: 0.9544 - val_loss: 0.1505 - val_binary_accuracy: 0.9538\n",
      "Epoch 9/100\n",
      "3990/3990 [==============================] - 6s 1ms/step - loss: 0.1225 - binary_accuracy: 0.9568 - val_loss: 0.1485 - val_binary_accuracy: 0.9549\n",
      "Epoch 10/100\n",
      "3990/3990 [==============================] - 6s 1ms/step - loss: 0.1189 - binary_accuracy: 0.9582 - val_loss: 0.1478 - val_binary_accuracy: 0.9559\n",
      "Epoch 11/100\n",
      "3990/3990 [==============================] - 6s 1ms/step - loss: 0.1160 - binary_accuracy: 0.9594 - val_loss: 0.1474 - val_binary_accuracy: 0.9564\n",
      "Epoch 12/100\n",
      "3990/3990 [==============================] - 6s 1ms/step - loss: 0.1128 - binary_accuracy: 0.9604 - val_loss: 0.1483 - val_binary_accuracy: 0.9573\n",
      "Epoch 13/100\n",
      "3990/3990 [==============================] - 6s 1ms/step - loss: 0.1095 - binary_accuracy: 0.9615 - val_loss: 0.1490 - val_binary_accuracy: 0.9576\n",
      "Epoch 14/100\n",
      "3990/3990 [==============================] - 6s 1ms/step - loss: 0.1079 - binary_accuracy: 0.9624 - val_loss: 0.1495 - val_binary_accuracy: 0.9578\n",
      "Epoch 15/100\n",
      "3990/3990 [==============================] - 6s 1ms/step - loss: 0.1063 - binary_accuracy: 0.9629 - val_loss: 0.1508 - val_binary_accuracy: 0.9581\n",
      "Epoch 16/100\n",
      "3990/3990 [==============================] - 6s 1ms/step - loss: 0.1046 - binary_accuracy: 0.9636 - val_loss: 0.1515 - val_binary_accuracy: 0.9579\n",
      "Epoch 17/100\n",
      "3990/3990 [==============================] - 6s 1ms/step - loss: 0.1028 - binary_accuracy: 0.9639 - val_loss: 0.1533 - val_binary_accuracy: 0.9581\n",
      "Epoch 18/100\n",
      "3990/3990 [==============================] - 6s 1ms/step - loss: 0.1017 - binary_accuracy: 0.9645 - val_loss: 0.1540 - val_binary_accuracy: 0.9577\n",
      "Epoch 19/100\n",
      "3990/3990 [==============================] - 6s 1ms/step - loss: 0.1008 - binary_accuracy: 0.9647 - val_loss: 0.1551 - val_binary_accuracy: 0.9576\n",
      "Epoch 20/100\n",
      "3990/3990 [==============================] - 6s 1ms/step - loss: 0.1001 - binary_accuracy: 0.9651 - val_loss: 0.1569 - val_binary_accuracy: 0.9578\n",
      "Epoch 21/100\n",
      "3990/3990 [==============================] - 6s 1ms/step - loss: 0.0982 - binary_accuracy: 0.9655 - val_loss: 0.1582 - val_binary_accuracy: 0.9577\n",
      "Epoch 22/100\n",
      "3990/3990 [==============================] - 6s 1ms/step - loss: 0.0978 - binary_accuracy: 0.9655 - val_loss: 0.1584 - val_binary_accuracy: 0.9579\n",
      "Epoch 23/100\n",
      "3990/3990 [==============================] - 6s 1ms/step - loss: 0.0965 - binary_accuracy: 0.9662 - val_loss: 0.1605 - val_binary_accuracy: 0.9577\n",
      "Epoch 24/100\n",
      "3990/3990 [==============================] - 6s 1ms/step - loss: 0.0962 - binary_accuracy: 0.9663 - val_loss: 0.1620 - val_binary_accuracy: 0.9577\n",
      "Epoch 25/100\n",
      "3990/3990 [==============================] - 6s 1ms/step - loss: 0.0955 - binary_accuracy: 0.9663 - val_loss: 0.1636 - val_binary_accuracy: 0.9576\n",
      "Epoch 26/100\n",
      "3990/3990 [==============================] - 6s 1ms/step - loss: 0.0943 - binary_accuracy: 0.9668 - val_loss: 0.1651 - val_binary_accuracy: 0.9573\n",
      "Epoch 27/100\n",
      "3990/3990 [==============================] - 6s 1ms/step - loss: 0.0936 - binary_accuracy: 0.9674 - val_loss: 0.1654 - val_binary_accuracy: 0.9577\n",
      "Epoch 28/100\n",
      "3990/3990 [==============================] - 6s 1ms/step - loss: 0.0936 - binary_accuracy: 0.9672 - val_loss: 0.1674 - val_binary_accuracy: 0.9574\n",
      "Epoch 29/100\n",
      "3990/3990 [==============================] - 6s 1ms/step - loss: 0.0927 - binary_accuracy: 0.9674 - val_loss: 0.1685 - val_binary_accuracy: 0.9573\n",
      "Epoch 30/100\n",
      "3990/3990 [==============================] - 6s 1ms/step - loss: 0.0929 - binary_accuracy: 0.9678 - val_loss: 0.1698 - val_binary_accuracy: 0.9572\n",
      "Epoch 31/100\n",
      "3990/3990 [==============================] - 6s 1ms/step - loss: 0.0924 - binary_accuracy: 0.9678 - val_loss: 0.1717 - val_binary_accuracy: 0.9566\n",
      "Epoch 32/100\n",
      "3990/3990 [==============================] - 6s 1ms/step - loss: 0.0913 - binary_accuracy: 0.9681 - val_loss: 0.1719 - val_binary_accuracy: 0.9567\n",
      "Epoch 33/100\n",
      "3990/3990 [==============================] - 6s 1ms/step - loss: 0.0912 - binary_accuracy: 0.9682 - val_loss: 0.1734 - val_binary_accuracy: 0.9566\n",
      "Epoch 34/100\n",
      "3990/3990 [==============================] - 6s 1ms/step - loss: 0.0910 - binary_accuracy: 0.9682 - val_loss: 0.1740 - val_binary_accuracy: 0.9563\n",
      "Epoch 35/100\n",
      "3990/3990 [==============================] - 6s 1ms/step - loss: 0.0906 - binary_accuracy: 0.9685 - val_loss: 0.1758 - val_binary_accuracy: 0.9558\n",
      "Epoch 36/100\n",
      "3990/3990 [==============================] - 6s 1ms/step - loss: 0.0902 - binary_accuracy: 0.9686 - val_loss: 0.1758 - val_binary_accuracy: 0.9564\n",
      "Epoch 37/100\n",
      "3990/3990 [==============================] - 6s 1ms/step - loss: 0.0902 - binary_accuracy: 0.9689 - val_loss: 0.1772 - val_binary_accuracy: 0.9560\n",
      "Epoch 38/100\n",
      "3990/3990 [==============================] - 6s 1ms/step - loss: 0.0892 - binary_accuracy: 0.9689 - val_loss: 0.1785 - val_binary_accuracy: 0.9560\n",
      "Epoch 39/100\n",
      "3990/3990 [==============================] - 6s 1ms/step - loss: 0.0891 - binary_accuracy: 0.9691 - val_loss: 0.1801 - val_binary_accuracy: 0.9555\n",
      "Epoch 40/100\n",
      "3990/3990 [==============================] - 6s 1ms/step - loss: 0.0889 - binary_accuracy: 0.9690 - val_loss: 0.1816 - val_binary_accuracy: 0.9553\n",
      "Epoch 41/100\n",
      "3990/3990 [==============================] - 6s 1ms/step - loss: 0.0887 - binary_accuracy: 0.9688 - val_loss: 0.1806 - val_binary_accuracy: 0.9557\n",
      "Epoch 42/100\n",
      "3990/3990 [==============================] - 6s 1ms/step - loss: 0.0878 - binary_accuracy: 0.9693 - val_loss: 0.1822 - val_binary_accuracy: 0.9557\n",
      "Epoch 43/100\n",
      "3990/3990 [==============================] - 6s 1ms/step - loss: 0.0880 - binary_accuracy: 0.9697 - val_loss: 0.1837 - val_binary_accuracy: 0.9555\n",
      "Epoch 44/100\n",
      "3990/3990 [==============================] - 6s 1ms/step - loss: 0.0879 - binary_accuracy: 0.9696 - val_loss: 0.1839 - val_binary_accuracy: 0.9556\n",
      "Epoch 45/100\n",
      "3990/3990 [==============================] - 6s 1ms/step - loss: 0.0880 - binary_accuracy: 0.9694 - val_loss: 0.1852 - val_binary_accuracy: 0.9551\n",
      "Epoch 46/100\n",
      "3990/3990 [==============================] - 6s 2ms/step - loss: 0.0872 - binary_accuracy: 0.9695 - val_loss: 0.1858 - val_binary_accuracy: 0.9552\n",
      "Epoch 47/100\n",
      "3990/3990 [==============================] - 6s 1ms/step - loss: 0.0872 - binary_accuracy: 0.9695 - val_loss: 0.1867 - val_binary_accuracy: 0.9547\n",
      "Epoch 48/100\n",
      "3990/3990 [==============================] - 6s 2ms/step - loss: 0.0870 - binary_accuracy: 0.9700 - val_loss: 0.1875 - val_binary_accuracy: 0.9549\n",
      "Epoch 49/100\n",
      "3990/3990 [==============================] - 6s 2ms/step - loss: 0.0867 - binary_accuracy: 0.9699 - val_loss: 0.1889 - val_binary_accuracy: 0.9543\n",
      "Epoch 50/100\n",
      "3990/3990 [==============================] - 6s 1ms/step - loss: 0.0865 - binary_accuracy: 0.9700 - val_loss: 0.1893 - val_binary_accuracy: 0.9545\n",
      "Epoch 51/100\n",
      "3990/3990 [==============================] - 6s 1ms/step - loss: 0.0865 - binary_accuracy: 0.9701 - val_loss: 0.1902 - val_binary_accuracy: 0.9541\n",
      "Epoch 52/100\n",
      "3990/3990 [==============================] - 6s 1ms/step - loss: 0.0862 - binary_accuracy: 0.9704 - val_loss: 0.1903 - val_binary_accuracy: 0.9546\n",
      "Epoch 53/100\n",
      "3990/3990 [==============================] - 6s 1ms/step - loss: 0.0859 - binary_accuracy: 0.9701 - val_loss: 0.1909 - val_binary_accuracy: 0.9544\n",
      "Epoch 54/100\n",
      "3990/3990 [==============================] - 6s 1ms/step - loss: 0.0858 - binary_accuracy: 0.9702 - val_loss: 0.1925 - val_binary_accuracy: 0.9539\n",
      "Epoch 55/100\n",
      "3990/3990 [==============================] - 6s 1ms/step - loss: 0.0855 - binary_accuracy: 0.9704 - val_loss: 0.1945 - val_binary_accuracy: 0.9536\n",
      "Epoch 56/100\n",
      "3990/3990 [==============================] - 6s 1ms/step - loss: 0.0857 - binary_accuracy: 0.9707 - val_loss: 0.1931 - val_binary_accuracy: 0.9541\n",
      "Epoch 57/100\n",
      "3990/3990 [==============================] - 6s 1ms/step - loss: 0.0853 - binary_accuracy: 0.9701 - val_loss: 0.1945 - val_binary_accuracy: 0.9540\n",
      "Epoch 58/100\n",
      "3990/3990 [==============================] - 6s 1ms/step - loss: 0.0848 - binary_accuracy: 0.9705 - val_loss: 0.1953 - val_binary_accuracy: 0.9538\n",
      "Epoch 59/100\n",
      "3990/3990 [==============================] - 6s 1ms/step - loss: 0.0853 - binary_accuracy: 0.9703 - val_loss: 0.1956 - val_binary_accuracy: 0.9538\n",
      "Epoch 60/100\n",
      "3990/3990 [==============================] - 6s 1ms/step - loss: 0.0846 - binary_accuracy: 0.9708 - val_loss: 0.1964 - val_binary_accuracy: 0.9537\n",
      "Epoch 61/100\n",
      "3990/3990 [==============================] - 6s 1ms/step - loss: 0.0848 - binary_accuracy: 0.9705 - val_loss: 0.1971 - val_binary_accuracy: 0.9538\n",
      "Epoch 62/100\n",
      "3990/3990 [==============================] - 5s 1ms/step - loss: 0.0846 - binary_accuracy: 0.9705 - val_loss: 0.1981 - val_binary_accuracy: 0.9535\n",
      "Epoch 63/100\n",
      "3990/3990 [==============================] - 41s 10ms/step - loss: 0.0845 - binary_accuracy: 0.9705 - val_loss: 0.1986 - val_binary_accuracy: 0.9536\n",
      "Epoch 64/100\n",
      "3990/3990 [==============================] - 6s 1ms/step - loss: 0.0841 - binary_accuracy: 0.9708 - val_loss: 0.2002 - val_binary_accuracy: 0.9534\n",
      "Epoch 65/100\n",
      "3990/3990 [==============================] - 6s 1ms/step - loss: 0.0843 - binary_accuracy: 0.9709 - val_loss: 0.2001 - val_binary_accuracy: 0.9538\n",
      "Epoch 66/100\n",
      "3990/3990 [==============================] - 6s 1ms/step - loss: 0.0840 - binary_accuracy: 0.9709 - val_loss: 0.2018 - val_binary_accuracy: 0.9533\n",
      "Epoch 67/100\n",
      "3990/3990 [==============================] - 6s 1ms/step - loss: 0.0841 - binary_accuracy: 0.9707 - val_loss: 0.2005 - val_binary_accuracy: 0.9535\n",
      "Epoch 68/100\n",
      "3990/3990 [==============================] - 6s 1ms/step - loss: 0.0836 - binary_accuracy: 0.9710 - val_loss: 0.2011 - val_binary_accuracy: 0.9532\n",
      "Epoch 69/100\n",
      "3990/3990 [==============================] - 6s 1ms/step - loss: 0.0834 - binary_accuracy: 0.9710 - val_loss: 0.2019 - val_binary_accuracy: 0.9532\n",
      "Epoch 70/100\n",
      "3990/3990 [==============================] - 6s 1ms/step - loss: 0.0834 - binary_accuracy: 0.9710 - val_loss: 0.2017 - val_binary_accuracy: 0.9532\n",
      "Epoch 71/100\n",
      "3990/3990 [==============================] - 6s 1ms/step - loss: 0.0836 - binary_accuracy: 0.9712 - val_loss: 0.2032 - val_binary_accuracy: 0.9533\n",
      "Epoch 72/100\n",
      "3990/3990 [==============================] - 6s 1ms/step - loss: 0.0834 - binary_accuracy: 0.9710 - val_loss: 0.2049 - val_binary_accuracy: 0.9532\n",
      "Epoch 73/100\n",
      "3990/3990 [==============================] - 6s 1ms/step - loss: 0.0834 - binary_accuracy: 0.9709 - val_loss: 0.2044 - val_binary_accuracy: 0.9531\n",
      "Epoch 74/100\n",
      "3990/3990 [==============================] - 6s 1ms/step - loss: 0.0831 - binary_accuracy: 0.9708 - val_loss: 0.2042 - val_binary_accuracy: 0.9535\n",
      "Epoch 75/100\n",
      "3990/3990 [==============================] - 6s 1ms/step - loss: 0.0828 - binary_accuracy: 0.9711 - val_loss: 0.2038 - val_binary_accuracy: 0.9533\n",
      "Epoch 76/100\n",
      "3990/3990 [==============================] - 6s 1ms/step - loss: 0.0829 - binary_accuracy: 0.9711 - val_loss: 0.2051 - val_binary_accuracy: 0.9532\n",
      "Epoch 77/100\n",
      "3990/3990 [==============================] - 6s 1ms/step - loss: 0.0831 - binary_accuracy: 0.9711 - val_loss: 0.2049 - val_binary_accuracy: 0.9535\n",
      "Epoch 78/100\n",
      "3990/3990 [==============================] - 6s 1ms/step - loss: 0.0827 - binary_accuracy: 0.9713 - val_loss: 0.2054 - val_binary_accuracy: 0.9535\n",
      "Epoch 79/100\n",
      "3990/3990 [==============================] - 6s 1ms/step - loss: 0.0830 - binary_accuracy: 0.9710 - val_loss: 0.2067 - val_binary_accuracy: 0.9526\n",
      "Epoch 80/100\n",
      "3990/3990 [==============================] - 6s 1ms/step - loss: 0.0825 - binary_accuracy: 0.9714 - val_loss: 0.2068 - val_binary_accuracy: 0.9527\n",
      "Epoch 81/100\n",
      "3990/3990 [==============================] - 6s 1ms/step - loss: 0.0825 - binary_accuracy: 0.9710 - val_loss: 0.2084 - val_binary_accuracy: 0.9529\n",
      "Epoch 82/100\n",
      "3990/3990 [==============================] - 6s 1ms/step - loss: 0.0823 - binary_accuracy: 0.9711 - val_loss: 0.2079 - val_binary_accuracy: 0.9529\n",
      "Epoch 83/100\n",
      "3990/3990 [==============================] - 6s 1ms/step - loss: 0.0819 - binary_accuracy: 0.9715 - val_loss: 0.2072 - val_binary_accuracy: 0.9532\n",
      "Epoch 84/100\n",
      "3990/3990 [==============================] - 6s 1ms/step - loss: 0.0825 - binary_accuracy: 0.9713 - val_loss: 0.2077 - val_binary_accuracy: 0.9532\n",
      "Epoch 85/100\n",
      "3990/3990 [==============================] - 6s 1ms/step - loss: 0.0821 - binary_accuracy: 0.9713 - val_loss: 0.2087 - val_binary_accuracy: 0.9530\n",
      "Epoch 86/100\n",
      "3990/3990 [==============================] - 6s 1ms/step - loss: 0.0818 - binary_accuracy: 0.9714 - val_loss: 0.2098 - val_binary_accuracy: 0.9527\n",
      "Epoch 87/100\n",
      "3990/3990 [==============================] - 6s 1ms/step - loss: 0.0820 - binary_accuracy: 0.9715 - val_loss: 0.2092 - val_binary_accuracy: 0.9530\n",
      "Epoch 88/100\n",
      "3990/3990 [==============================] - 6s 1ms/step - loss: 0.0821 - binary_accuracy: 0.9714 - val_loss: 0.2112 - val_binary_accuracy: 0.9524\n",
      "Epoch 89/100\n",
      "3990/3990 [==============================] - 6s 1ms/step - loss: 0.0818 - binary_accuracy: 0.9718 - val_loss: 0.2092 - val_binary_accuracy: 0.9530\n",
      "Epoch 90/100\n",
      "3990/3990 [==============================] - 6s 2ms/step - loss: 0.0818 - binary_accuracy: 0.9713 - val_loss: 0.2098 - val_binary_accuracy: 0.9528\n",
      "Epoch 91/100\n",
      "3990/3990 [==============================] - 6s 2ms/step - loss: 0.0811 - binary_accuracy: 0.9716 - val_loss: 0.2108 - val_binary_accuracy: 0.9527\n",
      "Epoch 92/100\n",
      "3990/3990 [==============================] - 6s 1ms/step - loss: 0.0815 - binary_accuracy: 0.9715 - val_loss: 0.2108 - val_binary_accuracy: 0.9526\n",
      "Epoch 93/100\n",
      "3990/3990 [==============================] - 6s 1ms/step - loss: 0.0815 - binary_accuracy: 0.9713 - val_loss: 0.2113 - val_binary_accuracy: 0.9528\n",
      "Epoch 94/100\n",
      "3990/3990 [==============================] - 6s 1ms/step - loss: 0.0814 - binary_accuracy: 0.9717 - val_loss: 0.2108 - val_binary_accuracy: 0.9531\n",
      "Epoch 95/100\n",
      "3990/3990 [==============================] - 6s 1ms/step - loss: 0.0812 - binary_accuracy: 0.9717 - val_loss: 0.2128 - val_binary_accuracy: 0.9524\n",
      "Epoch 96/100\n",
      "3990/3990 [==============================] - 6s 1ms/step - loss: 0.0819 - binary_accuracy: 0.9714 - val_loss: 0.2136 - val_binary_accuracy: 0.9522\n",
      "Epoch 97/100\n",
      "3990/3990 [==============================] - 6s 2ms/step - loss: 0.0816 - binary_accuracy: 0.9716 - val_loss: 0.2125 - val_binary_accuracy: 0.9525\n",
      "Epoch 98/100\n",
      "3990/3990 [==============================] - 6s 2ms/step - loss: 0.0802 - binary_accuracy: 0.9717 - val_loss: 0.2129 - val_binary_accuracy: 0.9527\n",
      "Epoch 99/100\n",
      "3990/3990 [==============================] - 6s 2ms/step - loss: 0.0813 - binary_accuracy: 0.9710 - val_loss: 0.2143 - val_binary_accuracy: 0.9521\n",
      "Epoch 100/100\n",
      "3990/3990 [==============================] - 6s 2ms/step - loss: 0.0810 - binary_accuracy: 0.9719 - val_loss: 0.2133 - val_binary_accuracy: 0.9530\n",
      "4987/4987 [==============================] - 5s 914us/step - loss: 0.1063 - binary_accuracy: 0.9703\n",
      "Loss:  0.10629791766405106\n",
      "Accuracy:  0.9702891111373901\n"
     ]
    }
   ],
   "source": [
    "# Cell 10: Train the model and evaluate it on the test dataset\n",
    "epochs = 100\n",
    "\n",
    "history = model.fit(\n",
    "    train_ds,\n",
    "    validation_data=val_ds,\n",
    "    epochs=epochs)\n",
    "\n",
    "loss, accuracy = model.evaluate(test_ds)\n",
    "\n",
    "print(\"Loss: \", loss)\n",
    "print(\"Accuracy: \", accuracy)"
   ]
  },
  {
   "cell_type": "code",
   "execution_count": 145,
   "metadata": {},
   "outputs": [
    {
     "data": {
      "image/png": "[encoded data removed]",
      "text/plain": [
       "<Figure size 640x480 with 1 Axes>"
      ]
     },
     "metadata": {},
     "output_type": "display_data"
    }
   ],
   "source": [
    "# Cell 11: Plot training and validation loss\n",
    "history_dict = history.history\n",
    "\n",
    "acc = history_dict['binary_accuracy']\n",
    "val_acc = history_dict['val_binary_accuracy']\n",
    "loss = history_dict['loss']\n",
    "val_loss = history_dict['val_loss']\n",
    "\n",
    "epochs = range(1, len(acc) + 1)\n",
    "\n",
    "# \"bo\" is for \"blue dot\"\n",
    "plt.plot(epochs, loss, 'bo', label='Training loss')\n",
    "# b is for \"solid blue line\"\n",
    "plt.plot(epochs, val_loss, 'b', label='Validation loss')\n",
    "plt.title('Training and validation loss')\n",
    "plt.xlabel('Epochs')\n",
    "plt.ylabel('Loss')\n",
    "plt.legend()\n",
    "\n",
    "plt.show()"
   ]
  },
  {
   "cell_type": "code",
   "execution_count": 146,
   "metadata": {},
   "outputs": [
    {
     "data": {
      "image/png": "[encoded data removed]",
      "text/plain": [
       "<Figure size 640x480 with 1 Axes>"
      ]
     },
     "metadata": {},
     "output_type": "display_data"
    }
   ],
   "source": [
    "# Cell 12: Plot training and validation accuracy\n",
    "plt.plot(epochs, acc, 'bo', label='Training acc')\n",
    "plt.plot(epochs, val_acc, 'b', label='Validation acc')\n",
    "plt.title('Training and validation accuracy')\n",
    "plt.xlabel('Epochs')\n",
    "plt.ylabel('Accuracy')\n",
    "plt.legend(loc='lower right')\n",
    "\n",
    "plt.show()"
   ]
  },
  {
   "cell_type": "code",
   "execution_count": 147,
   "metadata": {},
   "outputs": [],
   "source": [
    "# Cell 13: Define export model and compile it\n",
    "export_model = tf.keras.Sequential([\n",
    "  vectorize_layer,\n",
    "  model,\n",
    "  tf.keras.layers.Activation('sigmoid')\n",
    "])\n",
    "\n",
    "export_model.compile(\n",
    "    loss=tf.keras.losses.BinaryCrossentropy(from_logits=False), optimizer=\"adam\", metrics=['accuracy']\n",
    ")"
   ]
  },
  {
   "cell_type": "code",
   "execution_count": 148,
   "metadata": {},
   "outputs": [
    {
     "name": "stdout",
     "output_type": "stream",
     "text": [
      "4987/4987 [==============================] - 5s 989us/step - loss: 0.1063 - accuracy: 0.9703\n",
      "0.9702891111373901\n"
     ]
    }
   ],
   "source": [
    "# Cell 14: Evaluate the export model on the test dataset\n",
    "loss, accuracy = export_model.evaluate(raw_test_ds)\n",
    "print(accuracy)"
   ]
  },
  {
   "cell_type": "code",
   "execution_count": 171,
   "metadata": {},
   "outputs": [
    {
     "name": "stdout",
     "output_type": "stream",
     "text": [
      "1/1 [==============================] - 0s 20ms/step\n",
      "[[0.22110006]\n",
      " [0.29996753]\n",
      " [0.999984  ]]\n"
     ]
    }
   ],
   "source": [
    "# Cell 15: Define examples for prediction and make predictions\n",
    "examples = [\n",
    "    \"YOU ARE A TERRIBLE PERSON AND I WANT YOU TO DIE\",\n",
    "    \"You are my favrite person in the world, I love you so much\",\n",
    "    \"YOU SUCK BECAUSE OF YOUR RELIGION I HATE YOU YOU SUCK\"\n",
    "]\n",
    "\n",
    "predictions = export_model.predict(examples)\n",
    "\n",
    "print(predictions)"
   ]
  },
  {
   "cell_type": "code",
   "execution_count": 152,
   "metadata": {},
   "outputs": [],
   "source": [
    "# Cell 16: Save the export model\n",
    "export_model.save('UMsave.keras')"
   ]
  }
 ],
 "metadata": {
  "kernelspec": {
   "display_name": "Python 3",
   "language": "python",
   "name": "python3"
  },
  "language_info": {
   "codemirror_mode": {
    "name": "ipython",
    "version": 3
   },
   "file_extension": ".py",
   "mimetype": "text/x-python",
   "name": "python",
   "nbconvert_exporter": "python",
   "pygments_lexer": "ipython3",
   "version": "3.9.6"
  }
 },
 "nbformat": 4,
 "nbformat_minor": 2
}
